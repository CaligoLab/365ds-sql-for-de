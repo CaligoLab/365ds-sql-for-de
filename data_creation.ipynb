{
 "cells": [
  {
   "cell_type": "code",
   "execution_count": 1,
   "metadata": {},
   "outputs": [
    {
     "name": "stdout",
     "output_type": "stream",
     "text": [
      "Successfully wrote students_creator to students_creator.sql\n",
      "Successfully wrote teachers_creator to teachers_creator.sql\n"
     ]
    }
   ],
   "source": [
    "from create_sql_file import create_sql_file\n",
    "from data_creation import generate_student_data, generate_teacher_data\n",
    "\n",
    "student_data = generate_student_data(1000, 20)\n",
    "teacher_data = generate_teacher_data(student_data)\n",
    "create_sql_file(\"advanced_sql_tutorial\", student_data, \"students\", \"students_creator\")\n",
    "create_sql_file(\"advanced_sql_tutorial\", teacher_data, \"teachers\", \"teachers_creator\")"
   ]
  },
  {
   "cell_type": "code",
   "execution_count": 7,
   "metadata": {},
   "outputs": [
    {
     "data": {
      "text/plain": [
       "\"['German', 'Chinese', 'German']\""
      ]
     },
     "execution_count": 7,
     "metadata": {},
     "output_type": "execute_result"
    }
   ],
   "source": [
    "str(list(student_data[\"enrolled_classes\"][0]))"
   ]
  },
  {
   "cell_type": "code",
   "execution_count": null,
   "metadata": {},
   "outputs": [],
   "source": []
  }
 ],
 "metadata": {
  "kernelspec": {
   "display_name": "Python 3",
   "language": "python",
   "name": "python3"
  },
  "language_info": {
   "codemirror_mode": {
    "name": "ipython",
    "version": 3
   },
   "file_extension": ".py",
   "mimetype": "text/x-python",
   "name": "python",
   "nbconvert_exporter": "python",
   "pygments_lexer": "ipython3",
   "version": "3.11.0"
  },
  "orig_nbformat": 4
 },
 "nbformat": 4,
 "nbformat_minor": 2
}
